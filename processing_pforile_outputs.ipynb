{
 "cells": [
  {
   "cell_type": "code",
   "execution_count": 17,
   "id": "8c9025fd",
   "metadata": {},
   "outputs": [],
   "source": [
    "import glob\n",
    "import os\n",
    "import pandas as pd\n",
    "import csv\n",
    "from types import *\n",
    "import matplotlib\n",
    "import matplotlib.pyplot as plt\n",
    "import numpy as np\n",
    "import pickle\n",
    "import swifter\n",
    "from os import path"
   ]
  },
  {
   "cell_type": "markdown",
   "id": "9c836d1e",
   "metadata": {},
   "source": [
    "## Function Definitions"
   ]
  },
  {
   "cell_type": "code",
   "execution_count": null,
   "id": "c3b14885",
   "metadata": {},
   "outputs": [],
   "source": []
  },
  {
   "cell_type": "code",
   "execution_count": 1,
   "id": "1949d5fb",
   "metadata": {},
   "outputs": [],
   "source": [
    "#TODO: memory greedy, keeps the dictionary of profiles, \n",
    "#>100 mg would choke on memory, better process one by one instead of dict"
   ]
  },
  {
   "cell_type": "code",
   "execution_count": 2,
   "id": "8b47e74d",
   "metadata": {},
   "outputs": [],
   "source": [
    "def filter_cogs(groupped_cog_df, msk=None):\n",
    "    if not msk:\n",
    "        msk = ((groupped_cog_df.full_e_val < 1e-6) | \n",
    "               ((groupped_cog_df.alignment_length > 100) & \n",
    "                (groupped_cog_df.percent_id) > 50 ))\n",
    "    return groupped_cog_df[msk]"
   ]
  },
  {
   "cell_type": "code",
   "execution_count": 3,
   "id": "b98abf14",
   "metadata": {},
   "outputs": [],
   "source": [
    "def extract_raw_cog_hits_gff(cog_df_outfile):\n",
    "    \"\"\"\n",
    "    Assumptions:\n",
    "    only one COG of same type per gene: by bitscore, eval(reversed), alen\n",
    "    \"\"\"\n",
    "    unstacked_dct = {}\n",
    "    \n",
    "    \n",
    "    unstacked_dct = {}\n",
    "    unstacked_dct['gene_id_lst'] = []\n",
    "    unstacked_dct['hit_id_lst'] = []\n",
    "    unstacked_dct['fake_percent_id_lst'] = []\n",
    "    unstacked_dct['alignment_length_lst'] = []\n",
    "    #unstacked_dct['independent_domain_e-value_lst'] = []\n",
    "    unstacked_dct['full_sequence_e-value_lst'] = []\n",
    "    unstacked_dct['full_sequence_bitscore_lst'] = []\n",
    "    unstacked_dct['cog_id_lst'] = []\n",
    "    #unstacked_dct['cnt_lst'] = []\n",
    "    \n",
    "    data_col = cog_df_outfile.iloc[:, 8]\n",
    "    cog_col = cog_df_outfile.iloc[:, 2]\n",
    "    gene_id_col = cog_df_outfile.iloc[:, 0]\n",
    "    \n",
    "    for cog_id, gene_id, str_data in zip(cog_col,gene_id_col, data_col): \n",
    "        dict_data = {} #one string entry broken down as dictionary\n",
    "        for entry in str_data.split(';'):\n",
    "            k,v = entry.split(\"=\")\n",
    "            dict_data[k] = v\n",
    "        unstacked_dct['gene_id_lst'].append(gene_id)\n",
    "        unstacked_dct['hit_id_lst'].append(dict_data['ID'])\n",
    "        unstacked_dct['cog_id_lst'].append(cog_id)\n",
    "        unstacked_dct['fake_percent_id_lst'].append(dict_data['fake_percent_id'])\n",
    "        unstacked_dct['alignment_length_lst'].append(dict_data['alignment_length'])\n",
    "        unstacked_dct['full_sequence_e-value_lst'].append(dict_data['full_sequence_e-value'])\n",
    "        unstacked_dct['full_sequence_bitscore_lst'].append(dict_data['full_sequence_bitscore'])\n",
    "        \n",
    "        \n",
    "        \n",
    "#         unstacked_dct[fn]['cnt_lst'].append(1)\n",
    "#         for fn in func:\n",
    "#             if fn in dict_data:\n",
    "#                 for fn_id in dict_data[fn].split(','):\n",
    "                    \n",
    "\n",
    "    counts_df = pd.DataFrame({'gene_id': unstacked_dct['gene_id_lst'], \n",
    "                              'cog_id': unstacked_dct['cog_id_lst'],\n",
    "                              'hit_id': unstacked_dct['hit_id_lst'], \n",
    "                              'percent_id': unstacked_dct['fake_percent_id_lst'],\n",
    "                              'alignment_length': unstacked_dct['alignment_length_lst'],\n",
    "                              'full_e_val': unstacked_dct['full_sequence_e-value_lst'],\n",
    "                              'bitscore': unstacked_dct['full_sequence_bitscore_lst'],})\n",
    "    \n",
    "    counts_df = counts_df.astype({'percent_id': np.float64, \n",
    "                          'alignment_length': np.float64,\n",
    "                          'full_e_val': np.float64,\n",
    "                          'bitscore': np.float64})\n",
    "    \n",
    "    return counts_df"
   ]
  },
  {
   "cell_type": "code",
   "execution_count": null,
   "id": "990d0d99",
   "metadata": {},
   "outputs": [],
   "source": []
  },
  {
   "cell_type": "code",
   "execution_count": 4,
   "id": "b2c4ff20",
   "metadata": {},
   "outputs": [],
   "source": [
    "def extract_raw_cog_hits_gen(cog_df_outfile):\n",
    "    \"\"\"\n",
    "<taxon_oid>.<au>.cog.txt (from NCBI RPSBLAST)\n",
    "0 gene_id - Gene object identifier of query gene\n",
    "1 cog_id - COG identifier\n",
    "2 percent_identity - Perceent identity of aligned amino acid residues\n",
    "3 align_length - Alignment length\n",
    "4 query_start - Start coordinate of alignment on query gene\n",
    "5 query_end - End coordinate of alignment on query gene\n",
    "6 subj_start - Start coordinate of alignment on subject sequence\n",
    "7 subj_end - End coordinate of alignment on subject sequence\n",
    "8 evalue - Expectation value\n",
    "9 bit_score - Bit score of alignment\n",
    "    \"\"\"\n",
    "    unstacked_dct = {}\n",
    "    \n",
    "    \n",
    "    unstacked_dct = {}\n",
    "    unstacked_dct['gene_id_lst'] = []\n",
    "    unstacked_dct['hit_id_lst'] = []\n",
    "    unstacked_dct['fake_percent_id_lst'] = []\n",
    "    unstacked_dct['alignment_length_lst'] = []\n",
    "    #unstacked_dct['independent_domain_e-value_lst'] = []\n",
    "    unstacked_dct['full_sequence_e-value_lst'] = []\n",
    "    unstacked_dct['full_sequence_bitscore_lst'] = []\n",
    "    unstacked_dct['cog_id_lst'] = []\n",
    "    #unstacked_dct['cnt_lst'] = []\n",
    "    \n",
    "    gene_id_col = cog_df_outfile.iloc[:, 0]\n",
    "    cog_col = cog_df_outfile.iloc[:, 1]\n",
    "    percent_id_col = cog_df_outfile.iloc[:, 2]\n",
    "    aln_len_col = cog_df_outfile.iloc[:, 3]\n",
    "    eval_col = cog_df_outfile.iloc[:, 8]\n",
    "    bitscore_col = cog_df_outfile.iloc[:, 9]\n",
    "    \n",
    "    \n",
    "    for cog_id, gene_id, percent_id, aln_len, e_val, bitscore, idx in zip(cog_col, gene_id_col,\n",
    "                                                                          percent_id_col, aln_len_col,\n",
    "                                                                          eval_col, bitscore_col, \n",
    "                                                                          cog_df_outfile.index): \n",
    "        #dict_data = {} #one string entry broken down as dictionary\n",
    "#         for entry in str_data.split(';'):\n",
    "#             k,v = entry.split(\"=\")\n",
    "#             dict_data[k] = v\n",
    "        unstacked_dct['gene_id_lst'].append(gene_id)\n",
    "        unstacked_dct['hit_id_lst'].append(idx)\n",
    "        unstacked_dct['cog_id_lst'].append(cog_id)\n",
    "        unstacked_dct['fake_percent_id_lst'].append(percent_id)\n",
    "        unstacked_dct['alignment_length_lst'].append(aln_len)\n",
    "        unstacked_dct['full_sequence_e-value_lst'].append(e_val)\n",
    "        unstacked_dct['full_sequence_bitscore_lst'].append(bitscore)\n",
    "        \n",
    "        \n",
    "        \n",
    "#         unstacked_dct[fn]['cnt_lst'].append(1)\n",
    "#         for fn in func:\n",
    "#             if fn in dict_data:\n",
    "#                 for fn_id in dict_data[fn].split(','):\n",
    "                    \n",
    "\n",
    "    counts_df = pd.DataFrame({'gene_id': unstacked_dct['gene_id_lst'], \n",
    "                              'cog_id': unstacked_dct['cog_id_lst'],\n",
    "                              'hit_id': unstacked_dct['hit_id_lst'], \n",
    "                              'percent_id': unstacked_dct['fake_percent_id_lst'],\n",
    "                              'alignment_length': unstacked_dct['alignment_length_lst'],\n",
    "                              'full_e_val': unstacked_dct['full_sequence_e-value_lst'],\n",
    "                              'bitscore': unstacked_dct['full_sequence_bitscore_lst'],})\n",
    "    \n",
    "    counts_df = counts_df.astype({'percent_id': np.float64, \n",
    "                          'alignment_length': np.float64,\n",
    "                          'full_e_val': np.float64,\n",
    "                          'bitscore': np.float64})\n",
    "    \n",
    "    return counts_df"
   ]
  },
  {
   "cell_type": "code",
   "execution_count": null,
   "id": "35c212ed",
   "metadata": {},
   "outputs": [],
   "source": []
  },
  {
   "cell_type": "markdown",
   "id": "29ce70a2",
   "metadata": {},
   "source": [
    "<taxon_oid>.<au>.cog.txt (from NCBI RPSBLAST)\n",
    "0 gene_id - Gene object identifier of query gene\n",
    "1 cog_id - COG identifier\n",
    "2 percent_identity - Perceent identity of aligned amino acid residues\n",
    "3 align_length - Alignment length\n",
    "4 query_start - Start coordinate of alignment on query gene\n",
    "5 query_end - End coordinate of alignment on query gene\n",
    "6 subj_start - Start coordinate of alignment on subject sequence\n",
    "7 subj_end - End coordinate of alignment on subject sequence\n",
    "8 evalue - Expectation value\n",
    "9 bit_score - Bit score of alignment"
   ]
  },
  {
   "cell_type": "code",
   "execution_count": null,
   "id": "a746dda8",
   "metadata": {},
   "outputs": [],
   "source": []
  },
  {
   "cell_type": "code",
   "execution_count": 5,
   "id": "f6d20a5a",
   "metadata": {},
   "outputs": [],
   "source": [
    "def process_raw_cogs(raw_cogs_df):\n",
    "    sorted_raw_cogs = raw_cogs_df.sort_values(['gene_id', 'cog_id', 'bitscore', 'full_e_val', 'alignment_length', 'percent_id'], \n",
    "                    ascending=[True, True, False, True, False, False])\n",
    "    #aggregation takes weighted averages if multiple hits occur for cog-gene pair\n",
    "    \n",
    "    #this one's good but slow\n",
    "    gr_gene_cog = raw_cogs_df.groupby(['gene_id', 'cog_id'], as_index=False).apply(my_agg).reset_index()\n",
    "    \n",
    "    #this aggregation just takes the best hit according to sorting\n",
    "#     gr_gene_cog = sorted_raw_cogs.groupby(['gene_id', 'cog_id'], as_index=False).agg({'bitscore': 'first', \n",
    "#                                                                                       'full_e_val': 'first', \n",
    "#                                                                                       'percent_id': 'first', \n",
    "#                                                                                       'alignment_length': 'first'})\n",
    "    return gr_gene_cog"
   ]
  },
  {
   "cell_type": "code",
   "execution_count": 6,
   "id": "89abebda",
   "metadata": {},
   "outputs": [],
   "source": [
    "def process_raw_cogs_fast(raw_cogs_df):\n",
    "    sorted_raw_cogs = raw_cogs_df.sort_values(['gene_id', 'cog_id', 'bitscore', 'full_e_val', 'alignment_length', 'percent_id'], \n",
    "                    ascending=[True, True, False, True, False, False])\n",
    "    #aggregation takes weighted averages if multiple hits occur for cog-gene pair\n",
    "    \n",
    "    #this one's good but slow\n",
    "    #gr_gene_cog = raw_cogs_df.groupby(['gene_id', 'cog_id'], as_index=False).apply(my_agg).reset_index()\n",
    "    \n",
    "    #this aggregation just takes the best hit according to sorting\n",
    "    gr_gene_cog = sorted_raw_cogs.groupby(['gene_id', 'cog_id'], as_index=False).agg({'bitscore': 'first', \n",
    "                                                                                      'full_e_val': 'first', \n",
    "                                                                                      'percent_id': 'first', \n",
    "                                                                                      'alignment_length': 'first'})\n",
    "    return gr_gene_cog"
   ]
  },
  {
   "cell_type": "code",
   "execution_count": 7,
   "id": "8935a2ab",
   "metadata": {},
   "outputs": [],
   "source": [
    "def my_agg(x):\n",
    "    names = {'percent_id': (x['percent_id'] * x['alignment_length']).sum()/x['alignment_length'].sum(),\n",
    "             'bitscore': (x['bitscore'] * x['alignment_length']).sum()/x['alignment_length'].sum(),\n",
    "             'full_e_val': (x['full_e_val'] * x['alignment_length']).sum()/x['alignment_length'].sum(),\n",
    "             'alignment_length': x['alignment_length'].sum(),\n",
    "            }\n",
    "    return pd.Series(names, index=['percent_id', 'bitscore', 'full_e_val', 'alignment_length'])"
   ]
  },
  {
   "cell_type": "markdown",
   "id": "4fdc875e",
   "metadata": {},
   "source": [
    "### functional_annotation specific"
   ]
  },
  {
   "cell_type": "code",
   "execution_count": 8,
   "id": "d22c8297",
   "metadata": {},
   "outputs": [],
   "source": [
    "def summarize_by_function(unstacked_fn_df, function_metadata_df=None, agg_col='Relative_count_percent'):\n",
    "    summary_df = unstacked_fn_df.groupby('Function').aggregate({agg_col: sum})\n",
    "    if function_metadata_df:\n",
    "        merged_summary = function_metadata_df.merge(summary_df, how='left', left_index=True, right_on='Function').reset_index(drop=True).fillna(0)\n",
    "    else:\n",
    "        merged_summary = summary_df\n",
    "    if agg_col == 'Count':\n",
    "        merged_summary.Count = merged_summary.Count.astype(int)\n",
    "    return merged_summary[merged_summary.iloc[:, -1] != 0]\n",
    "    #m2.gene_count = m2.gene_count.astype(int)"
   ]
  },
  {
   "cell_type": "code",
   "execution_count": 9,
   "id": "677e761e",
   "metadata": {},
   "outputs": [],
   "source": [
    "def extract_func_counts(annot_df, func=['cog']):\n",
    "    \"\"\"\n",
    "    Extract absolute function counts from JGI functional annotation file\n",
    "    \n",
    "    parameters:\n",
    "        annot_df: dataframe of raw functional annotation\n",
    "        func=['cog', 'pfam', 'tigrfam']: JGI keyword for a function annotation\n",
    "        \n",
    "    returns:\n",
    "        counts_df_dct: first key is a function according to a func list. Values are dataframes \n",
    "        with unstacked function information.\n",
    "    \"\"\"\n",
    "    unstacked_dct = {}\n",
    "    counts_df_dct = {}\n",
    "    for fn in func:\n",
    "        unstacked_dct[fn] = {}\n",
    "        unstacked_dct[fn]['func_ids_lst'] = []\n",
    "        unstacked_dct[fn]['cont_ids_lst'] = []\n",
    "        unstacked_dct[fn]['gene_ids_lst'] = []\n",
    "        unstacked_dct[fn]['cnt_lst'] = []\n",
    "    \n",
    "    data_col = annot_df.iloc[:, 8]\n",
    "    contig_col = annot_df.iloc[:, 0]\n",
    "    \n",
    "    for str_data, contig_id in zip(data_col, contig_col): \n",
    "        dict_data = {} #one string entry broken down as dictionary\n",
    "        for entry in str_data.split(';'):\n",
    "            k,v = entry.split(\"=\")\n",
    "            dict_data[k] = v #values may still be stacked\n",
    "        for fn in func:\n",
    "            if fn in dict_data:\n",
    "                for fn_id in dict_data[fn].split(','):\n",
    "                    unstacked_dct[fn]['cont_ids_lst'].append(contig_id)\n",
    "                    unstacked_dct[fn]['gene_ids_lst'].append(dict_data['ID'])\n",
    "                    unstacked_dct[fn]['func_ids_lst'].append(fn_id)\n",
    "                    unstacked_dct[fn]['cnt_lst'].append(1)\n",
    "    \n",
    "    for fn in func:\n",
    "        counts_df_dct[fn] = pd.DataFrame({'gene_id': unstacked_dct[fn]['gene_ids_lst'], \n",
    "                               'Function': unstacked_dct[fn]['func_ids_lst'], \n",
    "                               'contig_id': unstacked_dct[fn]['cont_ids_lst'], \n",
    "                               'Count': unstacked_dct[fn]['cnt_lst']})\n",
    "    \n",
    "    return counts_df_dct"
   ]
  },
  {
   "cell_type": "code",
   "execution_count": 10,
   "id": "f7cd5f21",
   "metadata": {},
   "outputs": [],
   "source": [
    "def find_data(path, parse_folders=True):\n",
    "    if parse_folders:\n",
    "        result = find_data_in_folders(path)\n",
    "    else:\n",
    "        result = find_data_plain(path)\n",
    "    return result"
   ]
  },
  {
   "cell_type": "code",
   "execution_count": 11,
   "id": "5ff79f68",
   "metadata": {},
   "outputs": [],
   "source": [
    "def find_data_in_folders(path_to_data_folders):\n",
    "    file_data_dct = {}\n",
    "    \n",
    "    folders = glob.glob(path_to_data_folders)\n",
    "\n",
    "    \n",
    "    for folder in folders:        \n",
    "        cog_file = glob.glob(folder+\"/*cog*\")\n",
    "        func_annot_file = glob.glob(folder+\"/*functional_annotation*\")\n",
    "        #contig_mapping_file = glob.glob(folder+\"/*mapping*\")\n",
    "                \n",
    "\n",
    "        if len(cog_file) != 1:\n",
    "            print(\"Inconsistent coverage file in folder: \" + folder)\n",
    "            continue\n",
    "        elif len(func_annot_file) != 1:\n",
    "            print(\"Inconsistent annotation file in folder: \" + folder)\n",
    "            continue\n",
    "#         elif len(contig_mapping_file) != 1:\n",
    "#             print(\"Inconsistent mapping file in folder: \" + folder)\n",
    "#             continue\n",
    "        \n",
    "        file_data_dct[folder] = {}\n",
    "        \n",
    "        file_data_dct[folder]['cog_file'] = cog_file[0]\n",
    "        file_data_dct[folder]['func_annot_file'] = func_annot_file[0]\n",
    "        #file_data_dct[folder]['contig_mapping_file'] = contig_mapping_file[0]\n",
    "\n",
    "    return file_data_dct"
   ]
  },
  {
   "cell_type": "code",
   "execution_count": 12,
   "id": "7473a780",
   "metadata": {},
   "outputs": [],
   "source": [
    "def find_data_plain(path):\n",
    "    file_data_dct = {}\n",
    "    \n",
    "    #use general path here, we'll than filter it\n",
    "    files = glob.glob(path)\n",
    "    \n",
    "\n",
    "    cnt = 0\n",
    "    for cog_file in files:        \n",
    "        if 'cog' not in cog_file.lower():\n",
    "            continue\n",
    "        #cog_file = glob.glob(folder+\"/*cog*\")\n",
    "        #func_annot_file = glob.glob(folder+\"/*functional_annotation*\")\n",
    "        #contig_mapping_file = glob.glob(folder+\"/*mapping*\")\n",
    "                \n",
    "\n",
    "#         if len(cog_file) != 1:\n",
    "#             print(\"Inconsistent coverage file in folder: \" + folder)\n",
    "#             continue\n",
    "#         elif len(func_annot_file) != 1:\n",
    "#             print(\"Inconsistent annotation file in folder: \" + folder)\n",
    "#             continue\n",
    "# #         elif len(contig_mapping_file) != 1:\n",
    "# #             print(\"Inconsistent mapping file in folder: \" + folder)\n",
    "# #             continue\n",
    "        \n",
    "        pth = path +\"_\"+str(cnt)\n",
    "        file_data_dct[pth] = {}\n",
    "        \n",
    "        file_data_dct[pth]['cog_file'] = cog_file\n",
    "        file_data_dct[pth]['func_annot_file'] = \"\"\n",
    "        #file_data_dct[folder]['contig_mapping_file'] = contig_mapping_file[0]\n",
    "        cnt += 1\n",
    "\n",
    "    return file_data_dct"
   ]
  },
  {
   "cell_type": "code",
   "execution_count": 13,
   "id": "664f0ad4",
   "metadata": {},
   "outputs": [],
   "source": [
    "def export_function_profiles(fn_profiles_dct, \n",
    "                             out_folder_path=\"\", \n",
    "                             export_type_lst=None,\n",
    "                             suffix=\"\", minimal_fname=False,\n",
    "                            function_metadata_path=None):\n",
    "\n",
    "    if suffix:\n",
    "        suffix = \"_\" + suffix\n",
    "    for taxon_oid in fn_profiles_dct.keys():\n",
    "      \n",
    "        if export_type_lst is None:\n",
    "            profile_types = fn_profiles_dct[taxon_oid].keys()\n",
    "        else:\n",
    "            profile_types = [i for i in fn_profiles_dct[taxon_oid].keys() if i in export_type_lst]\n",
    "        for profile_type in profile_types:\n",
    "            if minimal_fname:\n",
    "                fname = taxon_oid+\".tsv\"\n",
    "            else:\n",
    "                fname = taxon_oid+\"_\"+profile_type+suffix+\".tsv\"  \n",
    "            \n",
    "            outfile_path = path.join(out_folder_path, fname)\n",
    "            df = fn_profiles_dct[taxon_oid][profile_type].rename(columns={'cog_id': 'COG ID', 'gene_id': \"Gene Count\"})\n",
    "            if function_metadata_path:\n",
    "                func_full = pd.read_csv(function_metadata_path, delimiter='\\t')\n",
    "                func_full = func_full.loc[:, ~func_full.columns.str.match('Unnamed')]\n",
    "                df = df.merge(func_full.set_index(\"COG ID\", drop=True), how=\"left\", left_on=\"COG ID\", right_index=True)\n",
    "                df = df[['COG ID', 'COG Name', 'Gene Count']]\n",
    "        \n",
    "            df.to_csv(outfile_path, sep='\\t', index=False)\n",
    "            \n",
    "            "
   ]
  },
  {
   "cell_type": "code",
   "execution_count": 14,
   "id": "d7444a48",
   "metadata": {},
   "outputs": [],
   "source": [
    "def retrieve_cog_tables(source_data_dct, to_filt_lst=[], parse_taxon_oid=True):\n",
    "    \n",
    "    output_profiles_dct = {}\n",
    "    taxon_id = \"\"\n",
    "    for folder, file_dct in source_data_dct.items():\n",
    "        cog_file = source_data_dct[folder]['cog_file']\n",
    "        if parse_taxon_oid:\n",
    "            for field in cog_file.split('/'):\n",
    "                if \"IMG_\" in field:\n",
    "                    taxon_id = field.split(\"_\")[1]\n",
    "                    break\n",
    "                \n",
    "        else:\n",
    "            \n",
    "            taxon_id = os.path.basename(cog_file)\n",
    "            taxon_id = taxon_id.split(\"_\")[0].split(\".\")[0]\n",
    "        print(taxon_id)\n",
    "        #func_annot_file = source_data_dct[folder]['func_annot_file']\n",
    "        \n",
    "\n",
    "        assert len(taxon_id) > 0, \"No profile identifier detected\"\n",
    "        \n",
    "        if taxon_id in to_filt_lst:\n",
    "            continue\n",
    "\n",
    "\n",
    "\n",
    "        #current_profile = pd.read_csv(func_annot_file, delimiter='\\t', header=None) \n",
    "        raw_cog_data = pd.read_csv(cog_file, delimiter='\\t', header=None)\n",
    "\n",
    "        output_profiles_dct[taxon_id] = {}\n",
    "        if \"gff\" in cog_file.lower():\n",
    "            output_profiles_dct[taxon_id]['raw'] = extract_raw_cog_hits_gff(raw_cog_data)\n",
    "        else:\n",
    "            output_profiles_dct[taxon_id]['raw'] = extract_raw_cog_hits_gen(raw_cog_data)\n",
    "\n",
    "        #slightly more agressive but way faster\n",
    "        output_profiles_dct[taxon_id]['grouped'] = process_raw_cogs_fast(output_profiles_dct[taxon_id]['raw'])\n",
    "\n",
    "        #more considerate but way slower\n",
    "        #cog_page_df_dct[taxon_id]['grouped'] = process_raw_cogs(cog_page_df_dct[taxon_id]['raw'])\n",
    "\n",
    "        output_profiles_dct[taxon_id]['filtered'] = filter_cogs(output_profiles_dct[taxon_id]['grouped'])\n",
    "\n",
    "    return output_profiles_dct\n",
    "\n",
    "\n",
    "#         unstacked_by_fn_dct[taxon_id] = extract_func_counts(current_profile, functions)\n",
    "#         result_dct[taxon_id] = {}\n",
    "\n",
    "\n",
    "#         for fn, unstacked_fn_df in unstacked_by_fn_dct[taxon_id].items():\n",
    "#             result_dct[taxon_id][fn] = {}\n",
    "\n",
    "#             result_dct[taxon_id][fn]['raw'] = summarize_by_function(unstacked_fn_df, None, agg_col='Count')\n",
    "\n",
    "\n"
   ]
  },
  {
   "cell_type": "code",
   "execution_count": 15,
   "id": "cf90183d",
   "metadata": {},
   "outputs": [],
   "source": [
    "def summarize_cog_tables(tables_dct):\n",
    "    summary_dct = {}\n",
    "    for taxon_id in tables_dct.keys():\n",
    "        summary_dct[taxon_id] = {}\n",
    "        for dtype in tables_dct[taxon_id]:\n",
    "            summary_dct[taxon_id][dtype] = tables_dct[taxon_id][dtype].groupby('cog_id').aggregate({'gene_id':len}).reset_index()\n",
    "    return summary_dct"
   ]
  },
  {
   "cell_type": "markdown",
   "id": "f71095e8",
   "metadata": {},
   "source": [
    "## COG parsing"
   ]
  },
  {
   "cell_type": "code",
   "execution_count": 17,
   "id": "7308af34",
   "metadata": {
    "scrolled": true
   },
   "outputs": [],
   "source": [
    "#!mkdir request_number44_shale_fracking/"
   ]
  },
  {
   "cell_type": "code",
   "execution_count": 28,
   "id": "26f58442",
   "metadata": {},
   "outputs": [],
   "source": [
    "#data_files_dct = find_data(\"cog_training_data/cog_files/*\", parse_folders=False)\n",
    "data_files_dct = find_data(\"request_number45_contaminated/*\", parse_folders=False)"
   ]
  },
  {
   "cell_type": "code",
   "execution_count": 29,
   "id": "f5c50579",
   "metadata": {
    "scrolled": true
   },
   "outputs": [
    {
     "data": {
      "text/plain": [
       "{'request_number45_contaminated/*_0': {'cog_file': 'request_number45_contaminated/Ga0209514.COG',\n",
       "  'func_annot_file': ''}}"
      ]
     },
     "execution_count": 29,
     "metadata": {},
     "output_type": "execute_result"
    }
   ],
   "source": [
    "data_files_dct"
   ]
  },
  {
   "cell_type": "code",
   "execution_count": null,
   "id": "1e61c296",
   "metadata": {},
   "outputs": [],
   "source": []
  },
  {
   "cell_type": "code",
   "execution_count": 30,
   "id": "6e2a3f69",
   "metadata": {
    "scrolled": false
   },
   "outputs": [
    {
     "name": "stdout",
     "output_type": "stream",
     "text": [
      "Ga0209514\n"
     ]
    }
   ],
   "source": [
    "cog_page_df_dct = retrieve_cog_tables(data_files_dct, parse_taxon_oid=False)"
   ]
  },
  {
   "cell_type": "code",
   "execution_count": 31,
   "id": "91e4934e",
   "metadata": {},
   "outputs": [],
   "source": [
    "cog_counts_df_dct = summarize_cog_tables(cog_page_df_dct)"
   ]
  },
  {
   "cell_type": "code",
   "execution_count": 32,
   "id": "d47197e1",
   "metadata": {},
   "outputs": [],
   "source": [
    "#export_function_profiles(cog_page_df_dct,export_type_lst=['filtered'] , suffix=\"cog\")"
   ]
  },
  {
   "cell_type": "code",
   "execution_count": 33,
   "id": "4d959492",
   "metadata": {},
   "outputs": [],
   "source": [
    "#summary_dct = summarize_cog_tables(cog_page_df_dct)"
   ]
  },
  {
   "cell_type": "code",
   "execution_count": 34,
   "id": "69cb2c90",
   "metadata": {},
   "outputs": [
    {
     "name": "stdout",
     "output_type": "stream",
     "text": [
      "mkdir: cannot create directory ‘request_number45_contaminated/’: File exists\r\n"
     ]
    }
   ],
   "source": [
    "#!mkdir cog_training_data/cog_profiles\n",
    "!mkdir request_number45_contaminated/"
   ]
  },
  {
   "cell_type": "code",
   "execution_count": 35,
   "id": "c99ce8ab",
   "metadata": {},
   "outputs": [],
   "source": [
    "export_function_profiles(cog_counts_df_dct, export_type_lst=['filtered'],\n",
    "                         out_folder_path=\"request_number45_contaminated_cog_output/\", \n",
    "                         suffix=\"\", function_metadata_path='coglist123340_25-mar-2018.tsv')"
   ]
  },
  {
   "cell_type": "code",
   "execution_count": 30,
   "id": "6de95c5b",
   "metadata": {},
   "outputs": [],
   "source": [
    "export_function_profiles(cog_counts_df_dct, export_type_lst=['filtered'],\n",
    "                         out_folder_path=\"cog_training_data/cog_profiles\", minimal_fname=True)"
   ]
  },
  {
   "cell_type": "markdown",
   "id": "515660b7",
   "metadata": {},
   "source": [
    "## Checkups, tests"
   ]
  },
  {
   "cell_type": "code",
   "execution_count": 18,
   "id": "c84189be",
   "metadata": {},
   "outputs": [
    {
     "data": {
      "text/plain": [
       "{'cog_training_small/IMG_3300034404/IMG_Data': {'cog_file': 'cog_training_small/IMG_3300034404/IMG_Data/Ga0374090_cog.gff',\n",
       "  'func_annot_file': 'cog_training_small/IMG_3300034404/IMG_Data/Ga0374090_functional_annotation.gff'},\n",
       " 'cog_training_small/IMG_3300038493/IMG_Data': {'cog_file': 'cog_training_small/IMG_3300038493/IMG_Data/Ga0188167_cog.gff',\n",
       "  'func_annot_file': 'cog_training_small/IMG_3300038493/IMG_Data/Ga0188167_functional_annotation.gff'},\n",
       " 'cog_training_small/IMG_3300045129/IMG_Data': {'cog_file': 'cog_training_small/IMG_3300045129/IMG_Data/Ga0495008_cog.gff',\n",
       "  'func_annot_file': 'cog_training_small/IMG_3300045129/IMG_Data/Ga0495008_functional_annotation.gff'},\n",
       " 'cog_training_small/IMG_3300045855/IMG_Data': {'cog_file': 'cog_training_small/IMG_3300045855/IMG_Data/Ga0485835_cog.gff',\n",
       "  'func_annot_file': 'cog_training_small/IMG_3300045855/IMG_Data/Ga0485835_functional_annotation.gff'}}"
      ]
     },
     "execution_count": 18,
     "metadata": {},
     "output_type": "execute_result"
    }
   ],
   "source": [
    "data_files_dct"
   ]
  },
  {
   "cell_type": "code",
   "execution_count": null,
   "id": "d9ffe1fa",
   "metadata": {},
   "outputs": [],
   "source": []
  },
  {
   "cell_type": "code",
   "execution_count": null,
   "id": "57ba3076",
   "metadata": {},
   "outputs": [],
   "source": []
  },
  {
   "cell_type": "code",
   "execution_count": 23,
   "id": "b6e8eb0e",
   "metadata": {},
   "outputs": [
    {
     "name": "stdout",
     "output_type": "stream",
     "text": [
      "raw_cogs.tsv  sorted_raw_cogs.tsv\r\n"
     ]
    }
   ],
   "source": [
    "!ls *cog*tsv"
   ]
  },
  {
   "cell_type": "code",
   "execution_count": 31,
   "id": "73246e2f",
   "metadata": {},
   "outputs": [
    {
     "name": "stdout",
     "output_type": "stream",
     "text": [
      "2276\r\n"
     ]
    }
   ],
   "source": [
    "!tail -n +2 3300034404_filtered_cog.tsv | cut -f2 | sort | uniq | wc -l"
   ]
  },
  {
   "cell_type": "code",
   "execution_count": 103,
   "id": "e9950903",
   "metadata": {},
   "outputs": [
    {
     "data": {
      "text/html": [
       "<div>\n",
       "<style scoped>\n",
       "    .dataframe tbody tr th:only-of-type {\n",
       "        vertical-align: middle;\n",
       "    }\n",
       "\n",
       "    .dataframe tbody tr th {\n",
       "        vertical-align: top;\n",
       "    }\n",
       "\n",
       "    .dataframe thead th {\n",
       "        text-align: right;\n",
       "    }\n",
       "</style>\n",
       "<table border=\"1\" class=\"dataframe\">\n",
       "  <thead>\n",
       "    <tr style=\"text-align: right;\">\n",
       "      <th></th>\n",
       "      <th>gene_id</th>\n",
       "      <th>cog_id</th>\n",
       "      <th>bitscore</th>\n",
       "      <th>full_e_val</th>\n",
       "      <th>percent_id</th>\n",
       "      <th>alignment_length</th>\n",
       "    </tr>\n",
       "  </thead>\n",
       "  <tbody>\n",
       "    <tr>\n",
       "      <th>3</th>\n",
       "      <td>Ga0495008_000001_171121_171699</td>\n",
       "      <td>COG0817</td>\n",
       "      <td>55.0</td>\n",
       "      <td>1.500000e-13</td>\n",
       "      <td>93.79</td>\n",
       "      <td>182.0</td>\n",
       "    </tr>\n",
       "    <tr>\n",
       "      <th>4</th>\n",
       "      <td>Ga0495008_000001_17516_20077</td>\n",
       "      <td>COG0463</td>\n",
       "      <td>148.1</td>\n",
       "      <td>1.300000e-41</td>\n",
       "      <td>76.04</td>\n",
       "      <td>274.0</td>\n",
       "    </tr>\n",
       "    <tr>\n",
       "      <th>7</th>\n",
       "      <td>Ga0495008_000001_188249_188872</td>\n",
       "      <td>COG2214</td>\n",
       "      <td>73.0</td>\n",
       "      <td>8.800000e-19</td>\n",
       "      <td>26.24</td>\n",
       "      <td>180.0</td>\n",
       "    </tr>\n",
       "    <tr>\n",
       "      <th>8</th>\n",
       "      <td>Ga0495008_000001_191757_193220</td>\n",
       "      <td>COG0328</td>\n",
       "      <td>97.0</td>\n",
       "      <td>2.000000e-26</td>\n",
       "      <td>94.23</td>\n",
       "      <td>190.0</td>\n",
       "    </tr>\n",
       "    <tr>\n",
       "      <th>9</th>\n",
       "      <td>Ga0495008_000001_1_768</td>\n",
       "      <td>COG4112</td>\n",
       "      <td>63.9</td>\n",
       "      <td>3.300000e-16</td>\n",
       "      <td>75.86</td>\n",
       "      <td>207.0</td>\n",
       "    </tr>\n",
       "    <tr>\n",
       "      <th>...</th>\n",
       "      <td>...</td>\n",
       "      <td>...</td>\n",
       "      <td>...</td>\n",
       "      <td>...</td>\n",
       "      <td>...</td>\n",
       "      <td>...</td>\n",
       "    </tr>\n",
       "    <tr>\n",
       "      <th>162013</th>\n",
       "      <td>Ga0495008_301438_1_201</td>\n",
       "      <td>COG3391</td>\n",
       "      <td>61.5</td>\n",
       "      <td>1.700000e-15</td>\n",
       "      <td>17.37</td>\n",
       "      <td>67.0</td>\n",
       "    </tr>\n",
       "    <tr>\n",
       "      <th>162019</th>\n",
       "      <td>Ga0495008_301451_1_201</td>\n",
       "      <td>COG3391</td>\n",
       "      <td>70.5</td>\n",
       "      <td>3.100000e-18</td>\n",
       "      <td>17.37</td>\n",
       "      <td>67.0</td>\n",
       "    </tr>\n",
       "    <tr>\n",
       "      <th>162021</th>\n",
       "      <td>Ga0495008_301457_3_203</td>\n",
       "      <td>COG3391</td>\n",
       "      <td>65.3</td>\n",
       "      <td>1.200000e-16</td>\n",
       "      <td>17.37</td>\n",
       "      <td>67.0</td>\n",
       "    </tr>\n",
       "    <tr>\n",
       "      <th>162027</th>\n",
       "      <td>Ga0495008_301484_1_201</td>\n",
       "      <td>COG0208</td>\n",
       "      <td>58.3</td>\n",
       "      <td>1.300000e-14</td>\n",
       "      <td>16.67</td>\n",
       "      <td>65.0</td>\n",
       "    </tr>\n",
       "    <tr>\n",
       "      <th>162032</th>\n",
       "      <td>Ga0495008_301495_7_198</td>\n",
       "      <td>COG0758</td>\n",
       "      <td>89.3</td>\n",
       "      <td>4.900000e-24</td>\n",
       "      <td>17.27</td>\n",
       "      <td>63.0</td>\n",
       "    </tr>\n",
       "  </tbody>\n",
       "</table>\n",
       "<p>116364 rows × 6 columns</p>\n",
       "</div>"
      ],
      "text/plain": [
       "                               gene_id   cog_id  bitscore    full_e_val  \\\n",
       "3       Ga0495008_000001_171121_171699  COG0817      55.0  1.500000e-13   \n",
       "4         Ga0495008_000001_17516_20077  COG0463     148.1  1.300000e-41   \n",
       "7       Ga0495008_000001_188249_188872  COG2214      73.0  8.800000e-19   \n",
       "8       Ga0495008_000001_191757_193220  COG0328      97.0  2.000000e-26   \n",
       "9               Ga0495008_000001_1_768  COG4112      63.9  3.300000e-16   \n",
       "...                                ...      ...       ...           ...   \n",
       "162013          Ga0495008_301438_1_201  COG3391      61.5  1.700000e-15   \n",
       "162019          Ga0495008_301451_1_201  COG3391      70.5  3.100000e-18   \n",
       "162021          Ga0495008_301457_3_203  COG3391      65.3  1.200000e-16   \n",
       "162027          Ga0495008_301484_1_201  COG0208      58.3  1.300000e-14   \n",
       "162032          Ga0495008_301495_7_198  COG0758      89.3  4.900000e-24   \n",
       "\n",
       "        percent_id  alignment_length  \n",
       "3            93.79             182.0  \n",
       "4            76.04             274.0  \n",
       "7            26.24             180.0  \n",
       "8            94.23             190.0  \n",
       "9            75.86             207.0  \n",
       "...            ...               ...  \n",
       "162013       17.37              67.0  \n",
       "162019       17.37              67.0  \n",
       "162021       17.37              67.0  \n",
       "162027       16.67              65.0  \n",
       "162032       17.27              63.0  \n",
       "\n",
       "[116364 rows x 6 columns]"
      ]
     },
     "execution_count": 103,
     "metadata": {},
     "output_type": "execute_result"
    }
   ],
   "source": [
    "cog_page_df_dct[taxon_oid]['filtered']"
   ]
  },
  {
   "cell_type": "code",
   "execution_count": 102,
   "id": "27f5885a",
   "metadata": {},
   "outputs": [
    {
     "name": "stdout",
     "output_type": "stream",
     "text": [
      "******** Taxon ID:\t Ga0188167 **********\n",
      "COG processing stats:\n",
      "\traw genes: 14194\n",
      "\tgrouped genes: 13336\n",
      "\tgrouped unique COGs: 2279\n",
      "\tgrouped total COGs: 13336\n",
      "\tfiltered genes: 11180  (83.83%)\n",
      "\tfiltered unique COGs: 1897  (83.24%)\n",
      "\tfiltered total COGs: 11180  (83.83%)\n",
      "\n",
      "******** Taxon ID:\t Ga0374090 **********\n",
      "COG processing stats:\n",
      "\traw genes: 47954\n",
      "\tgrouped genes: 45949\n",
      "\tgrouped unique COGs: 3006\n",
      "\tgrouped total COGs: 45949\n",
      "\tfiltered genes: 36355  (79.12%)\n",
      "\tfiltered unique COGs: 2276  (75.72%)\n",
      "\tfiltered total COGs: 36355  (79.12%)\n",
      "\n",
      "******** Taxon ID:\t Ga0485835 **********\n",
      "COG processing stats:\n",
      "\traw genes: 243471\n",
      "\tgrouped genes: 233310\n",
      "\tgrouped unique COGs: 4341\n",
      "\tgrouped total COGs: 233310\n",
      "\tfiltered genes: 193706  (83.03%)\n",
      "\tfiltered unique COGs: 3660  (84.31%)\n",
      "\tfiltered total COGs: 193706  (83.03%)\n",
      "\n",
      "******** Taxon ID:\t Ga0495008 **********\n",
      "COG processing stats:\n",
      "\traw genes: 168485\n",
      "\tgrouped genes: 162035\n",
      "\tgrouped unique COGs: 4440\n",
      "\tgrouped total COGs: 162035\n",
      "\tfiltered genes: 116364  (71.81%)\n",
      "\tfiltered unique COGs: 3623  (81.60%)\n",
      "\tfiltered total COGs: 116364  (71.81%)\n",
      "\n"
     ]
    }
   ],
   "source": [
    "for taxon_oid in cog_page_df_dct.keys():\n",
    "    raw_genes = len(cog_page_df_dct[taxon_oid]['raw'])\n",
    "    grp_genes = len(cog_page_df_dct[taxon_oid]['grouped'])\n",
    "    flt_genes = len(cog_page_df_dct[taxon_oid]['filtered'])\n",
    "    #jgi_genes = len(unstacked_by_fn_dct[taxon_oid]['cog'])\n",
    "    \n",
    "    grp_u_cog = len(cog_page_df_dct[taxon_oid]['grouped'].groupby('cog_id').agg({'gene_id':'count'}))\n",
    "    grp_t_cog = int(cog_page_df_dct[taxon_oid]['grouped'].groupby('cog_id').agg({'gene_id':'count'}).sum())\n",
    "    flt_u_cog = len(cog_page_df_dct[taxon_oid]['filtered'].groupby('cog_id').agg({'gene_id':'count'}))\n",
    "    flt_t_cog = int(cog_page_df_dct[taxon_oid]['filtered'].groupby('cog_id').agg({'gene_id':'count'}).sum())\n",
    "    #jgi_u_cog = len(result_dct[taxon_oid]['cog']['raw'])\n",
    "    #jgi_t_cog = result_dct[taxon_oid]['cog']['raw'].Count.sum()\n",
    "    \n",
    "    print(\"******** Taxon ID:\\t\", taxon_oid, \"**********\")\n",
    "    print(\"COG processing stats:\")\n",
    "    print(\"\\traw genes:\", raw_genes)\n",
    "    print(\"\\tgrouped genes:\", grp_genes)\n",
    "    print(\"\\tgrouped unique COGs:\", grp_u_cog)\n",
    "    print(\"\\tgrouped total COGs:\", grp_t_cog)\n",
    "    print(\"\\tfiltered genes:\", flt_genes, f\" ({flt_genes/grp_genes*100:.2f}%)\")\n",
    "    print(\"\\tfiltered unique COGs:\", flt_u_cog, f\" ({flt_u_cog/grp_u_cog*100:.2f}%)\")\n",
    "    print(\"\\tfiltered total COGs:\", flt_t_cog, f\" ({flt_t_cog/grp_t_cog*100:.2f}%)\")\n",
    "    \n",
    "#     print(\"JGI stats:\")\n",
    "#     print(\"\\tunstacked genes:\", jgi_genes)\n",
    "#     print(\"\\tunique COGs: \", jgi_u_cog)\n",
    "#     print(\"\\ttotal COGs:\", jgi_t_cog)\n",
    "    print()\n"
   ]
  },
  {
   "cell_type": "code",
   "execution_count": null,
   "id": "0d1e77a8",
   "metadata": {},
   "outputs": [],
   "source": []
  },
  {
   "cell_type": "code",
   "execution_count": null,
   "id": "7200cd94",
   "metadata": {},
   "outputs": [],
   "source": []
  },
  {
   "cell_type": "code",
   "execution_count": null,
   "id": "3c7c6053",
   "metadata": {},
   "outputs": [],
   "source": []
  }
 ],
 "metadata": {
  "kernelspec": {
   "display_name": "Python 3 (ipykernel)",
   "language": "python",
   "name": "python3"
  },
  "language_info": {
   "codemirror_mode": {
    "name": "ipython",
    "version": 3
   },
   "file_extension": ".py",
   "mimetype": "text/x-python",
   "name": "python",
   "nbconvert_exporter": "python",
   "pygments_lexer": "ipython3",
   "version": "3.8.3"
  }
 },
 "nbformat": 4,
 "nbformat_minor": 5
}
